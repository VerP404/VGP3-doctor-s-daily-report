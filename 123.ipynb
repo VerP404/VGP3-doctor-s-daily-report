{
 "cells": [
  {
   "cell_type": "code",
   "execution_count": 182,
   "metadata": {},
   "outputs": [],
   "source": [
    "import pandas as pd\n",
    "import numpy as np\n",
    "import openpyxl\n",
    "from openpyxl import workbook\n",
    "from openpyxl.styles.numbers import BUILTIN_FORMATS\n",
    "from openpyxl.utils import get_column_letter\n"
   ]
  },
  {
   "cell_type": "code",
   "execution_count": 171,
   "metadata": {},
   "outputs": [],
   "source": [
    "oms = pd.read_csv('journal_20230216 (3).csv', sep=';',\n",
    "                  usecols=['Статус', 'Цель', 'Тип талона', 'Пациент', 'Начало лечения', 'Окончание лечения', 'Врач', 'Врач (Профиль МП)', 'Диагноз основной (DS1)',\n",
    "                           'Подразделение'])"
   ]
  },
  {
   "cell_type": "code",
   "execution_count": 172,
   "metadata": {},
   "outputs": [],
   "source": [
    "# выделяем диагноз\n",
    "oms_1 = oms['Диагноз основной (DS1)'].str.split(' ', expand=True)\n",
    "oms['Диагноз'] = oms_1[0]\n",
    "oms = oms.drop(columns = ['Диагноз основной (DS1)'],axis = 1)"
   ]
  },
  {
   "cell_type": "code",
   "execution_count": 173,
   "metadata": {},
   "outputs": [],
   "source": [
    "# функиция распределения в файле ОМС корпуса\n",
    "def korpus(x):\n",
    "    if x in gp3:\n",
    "        return 'ГП3'\n",
    "    elif x in gp3_oap_1:\n",
    "        return 'ГП3 ОАП 1'\n",
    "    elif x in gp3_oap_2:\n",
    "        return 'ГП3 ОАП 2'\n",
    "    elif x in gp3_gk:\n",
    "        return 'ГП3 ЖК'\n",
    "    elif x in gp3_dp:\n",
    "        return 'ГП3 ДП'\n",
    "    elif x in gp11:\n",
    "        return 'ГП11'\n",
    "    elif x in gp11_dp:\n",
    "        return 'ГП11 ДП'\n",
    "    elif x in gp11_dp_po:\n",
    "        return 'ГП11 ДП ПО'\n",
    "    elif x in gp11_dp_coz:\n",
    "        return 'ГП11 ДП ЦОЗ'\n",
    "    else:\n",
    "        return 'проверить корпус'\n",
    "\n",
    "gp3 = ['БУЗ ВО ВГП № 3\"\"']\n",
    "gp3_oap_1 = ['Отделение амбулаторно - поликлинической помощи № 1(БУЗ ВО ВГП №3)\"']\n",
    "gp3_oap_2 = ['Отделение амбулаторно-поликлинической помощи № 2 (БУЗ ВО ВГП № 3\")\"']\n",
    "gp3_gk = ['Отделение женской консультации (БУЗ ВО ВГП № 3\")\"']\n",
    "gp3_dp = ['Детская поликлиника № 1 (БУЗ ВО ВГП № 3\")\"']\n",
    "gp11 = ['Поликлиника № 11 (БУЗ ВО  ВГП № 3\")\"']\n",
    "gp11_dp = ['Детская поликлиника № 8 (БУЗ ВО ВГП № 3\")\"']\n",
    "gp11_dp_po = ['Профилактическое отделение Детской поликлиники №8 (БУЗ ВО ВГП №3\")\"']\n",
    "gp11_dp_coz = ['Центр охраны зрения детей (БУЗ ВО ВГП № 3\")\"']\n",
    "\n",
    "oms['корпус'] = oms['Подразделение'].apply(korpus)"
   ]
  },
  {
   "cell_type": "code",
   "execution_count": 174,
   "metadata": {},
   "outputs": [
    {
     "name": "stderr",
     "output_type": "stream",
     "text": [
      "C:\\Users\\User\\AppData\\Local\\Temp\\ipykernel_13624\\3648636161.py:1: FutureWarning: Dropping invalid columns in DataFrameGroupBy.mean is deprecated. In a future version, a TypeError will be raised. Before calling .mean, select only columns which should be valid for the function.\n",
      "  svod_po_celam = pd.pivot_table(oms, index=['корпус', 'Врач (Профиль МП)', 'Врач'],\n"
     ]
    }
   ],
   "source": [
    "svod_po_celam = pd.pivot_table(oms, index=['корпус', 'Врач (Профиль МП)', 'Врач'],\n",
    "                               columns=['Цель'],\n",
    "                               values=[\"Пациент\"],\n",
    "                               aggfunc=[np.mean, len],\n",
    "                               fill_value= 0)"
   ]
  },
  {
   "cell_type": "code",
   "execution_count": 175,
   "metadata": {},
   "outputs": [],
   "source": [
    "svod = svod_po_celam['len']['Пациент']"
   ]
  },
  {
   "cell_type": "code",
   "execution_count": 176,
   "metadata": {},
   "outputs": [],
   "source": [
    "svod['посещения. цели: 1,5,7,9,10,13,14,140,64,640'] = 0\n",
    "svod['обращения. цели: 30, 301, 305'] = 0\n",
    "svod['неотложка. цели: 22'] = 0\n",
    "svod['3 цель'] = 0\n",
    "svod['Лаб. исследования. цели: 561'] = 0\n",
    "svod['УЗИ и эндоскопия. цели: 541'] = 0\n",
    "svod['Цель 32'] = 0\n",
    "svod['Дневной стационар'] = 0\n",
    "svod['Диспансеризация ДВ4'] = 0\n",
    "svod['Диспансеризация ДВ2'] = 0\n",
    "svod['Диспансеризация ОПВ'] = 0\n",
    "svod['Диспансеризация УД1'] = 0\n",
    "svod['Диспансеризация УД2'] = 0\n",
    "svod['Диспансеризация ПН1'] = 0\n",
    "svod['Диспансеризация ДС2'] = 0\n",
    "svod['План'] = 0\n",
    "svod['%'] = 0\n",
    "\n",
    "\n",
    "pos = ['1', '5', '7', '9', '10', '13', '14', '140', '64', '640']\n",
    "obr = ['30', '301', '305']\n",
    "neo = ['22']\n",
    "cel_3 = ['3']\n",
    "cel_561 = ['561']\n",
    "cel_541 = ['541']\n",
    "cel_32 = ['32']\n",
    "stac = ['В дневном стационаре', 'На дому']\n",
    "dv4 = ['ДВ4']\n",
    "dv2 = ['ДВ2']\n",
    "opv = ['ОПВ']\n",
    "ud1 = ['УД1']\n",
    "ud2 = ['УД2']\n",
    "pn1 = ['ПН1']\n",
    "ds2 = ['ДС2']\n",
    "\n",
    "for i in svod.columns.values.tolist():\n",
    "    if i in pos:\n",
    "        svod['посещения. цели: 1,5,7,9,10,13,14,140,64,640'] = svod['посещения. цели: 1,5,7,9,10,13,14,140,64,640'] + svod[str(i)]\n",
    "    elif i in obr:\n",
    "        svod['обращения. цели: 30, 301, 305'] = svod['обращения. цели: 30, 301, 305'] + svod[str(i)]\n",
    "    elif i in neo:\n",
    "        svod['неотложка. цели: 22'] = svod['неотложка. цели: 22'] + svod[str(i)]  \n",
    "    elif i in cel_3:\n",
    "        svod['3 цель'] = svod['3 цель'] + svod[str(i)]\n",
    "    elif i in cel_561:\n",
    "        svod['Лаб. исследования. цели: 561'] = svod['Лаб. исследования. цели: 561'] + svod[str(i)]\n",
    "    elif i in cel_541:\n",
    "        svod['УЗИ и эндоскопия. цели: 541'] = svod['УЗИ и эндоскопия. цели: 541'] + svod[str(i)]\n",
    "    elif i in cel_32:\n",
    "        svod['Цель 32'] = svod['Цель 32'] + svod[str(i)]\n",
    "    elif i in stac:\n",
    "        svod['Дневной стационар'] = svod['Дневной стационар'] + svod[str(i)]\n",
    "    elif i in dv4:\n",
    "        svod['Диспансеризация ДВ4'] = svod['ДВ4'] + svod[str(i)]    \n",
    "    elif i in dv2:\n",
    "        svod['Диспансеризация ДВ2'] = svod['ДВ2'] + svod[str(i)]\n",
    "    elif i in opv:\n",
    "        svod['Диспансеризация ОПВ'] = svod['ОПВ'] + svod[str(i)]\n",
    "    elif i in ud1:\n",
    "        svod['Диспансеризация УД1'] = svod['УД1'] + svod[str(i)]\n",
    "    elif i in ud2:\n",
    "        svod['Диспансеризация УД2'] = svod['УД2'] + svod[str(i)]\n",
    "    elif i in pn1:\n",
    "        svod['Диспансеризация ПН1'] = svod['ПН1'] + svod[str(i)]\n",
    "    elif i in ds2:\n",
    "        svod['Диспансеризация ДС2'] = svod['ДС2'] + svod[str(i)]\n",
    "        "
   ]
  },
  {
   "cell_type": "code",
   "execution_count": 177,
   "metadata": {
    "tags": []
   },
   "outputs": [],
   "source": [
    "svod = svod[['План',\n",
    "                'посещения. цели: 1,5,7,9,10,13,14,140,64,640',\n",
    "             '%',\n",
    "             'План',\n",
    "                'обращения. цели: 30, 301, 305',\n",
    "             '%',\n",
    "             'План',\n",
    "                'неотложка. цели: 22',\n",
    "             '%',\n",
    "             'План',\n",
    "                '3 цель',\n",
    "             '%',\n",
    "             'План',\n",
    "                'Лаб. исследования. цели: 561',\n",
    "             '%',\n",
    "             'План',\n",
    "                'УЗИ и эндоскопия. цели: 541',\n",
    "             '%',\n",
    "             'План',\n",
    "                'Цель 32',\n",
    "             '%',\n",
    "             'План',\n",
    "                'Дневной стационар',\n",
    "             '%',\n",
    "                'Диспансеризация ДВ4',\n",
    "                'Диспансеризация ДВ2',\n",
    "                'Диспансеризация ОПВ',\n",
    "                'Диспансеризация УД1',\n",
    "                'Диспансеризация УД2',\n",
    "                'Диспансеризация ПН1',\n",
    "                'Диспансеризация ДС2',\n",
    "                '1',\n",
    "                '10',\n",
    "                '13',\n",
    "                '17',\n",
    "                '2',\n",
    "                '22',\n",
    "                '3',\n",
    "                '30',\n",
    "                '301',\n",
    "                '306',\n",
    "                '32',\n",
    "                '5',\n",
    "                '52',\n",
    "                '541',\n",
    "                '55',\n",
    "                '561',\n",
    "                '64',\n",
    "                '7',\n",
    "                'В дневном стационаре',\n",
    "                'На дому'\n",
    "]]"
   ]
  },
  {
   "cell_type": "code",
   "execution_count": 178,
   "metadata": {},
   "outputs": [],
   "source": [
    "svod.to_excel('otch3.xlsx')"
   ]
  },
  {
   "cell_type": "code",
   "execution_count": 179,
   "metadata": {},
   "outputs": [],
   "source": [
    "wb = openpyxl.load_workbook('otch3.xlsx')  # Открываем файл EXCEL\n",
    "sheet = wb['Sheet1']  # Открываем нужную книгу в файле"
   ]
  },
  {
   "cell_type": "code",
   "execution_count": 180,
   "metadata": {},
   "outputs": [],
   "source": [
    "for y in range(2, 23, 3):\n",
    "    for i in range(2, row_count+1):\n",
    "        sheet[chr(68 + y)+ str(i)] = '='+chr(68+y-1) + str(i) + '/' +chr(68+y-2) + str(i) + '*100'"
   ]
  },
  {
   "cell_type": "code",
   "execution_count": 191,
   "metadata": {},
   "outputs": [],
   "source": [
    "sheet.column_dimensions['B'].width = 30\n",
    "sheet.column_dimensions['C'].width = 30"
   ]
  },
  {
   "cell_type": "code",
   "execution_count": 193,
   "metadata": {},
   "outputs": [],
   "source": [
    "sheet.insert_rows(1)"
   ]
  },
  {
   "cell_type": "code",
   "execution_count": 202,
   "metadata": {},
   "outputs": [
    {
     "data": {
      "text/plain": [
       "'D1:F1'"
      ]
     },
     "execution_count": 202,
     "metadata": {},
     "output_type": "execute_result"
    }
   ],
   "source": [
    "y = 0\n",
    "chr(68 + y) + '1:' + chr(68 + y + 2)+'1'"
   ]
  },
  {
   "cell_type": "code",
   "execution_count": 203,
   "metadata": {},
   "outputs": [
    {
     "ename": "ValueError",
     "evalue": "Y1:[1 is not a valid coordinate or range",
     "output_type": "error",
     "traceback": [
      "\u001b[1;31m---------------------------------------------------------------------------\u001b[0m",
      "\u001b[1;31mValueError\u001b[0m                                Traceback (most recent call last)",
      "\u001b[1;32m~\\AppData\\Local\\Temp\\ipykernel_13624\\731288845.py\u001b[0m in \u001b[0;36m<module>\u001b[1;34m\u001b[0m\n\u001b[0;32m      1\u001b[0m \u001b[1;32mfor\u001b[0m \u001b[0my\u001b[0m \u001b[1;32min\u001b[0m \u001b[0mrange\u001b[0m\u001b[1;33m(\u001b[0m\u001b[1;36m0\u001b[0m\u001b[1;33m,\u001b[0m \u001b[1;36m23\u001b[0m\u001b[1;33m,\u001b[0m \u001b[1;36m3\u001b[0m\u001b[1;33m)\u001b[0m\u001b[1;33m:\u001b[0m\u001b[1;33m\u001b[0m\u001b[1;33m\u001b[0m\u001b[0m\n\u001b[1;32m----> 2\u001b[1;33m     \u001b[0msheet\u001b[0m\u001b[1;33m.\u001b[0m\u001b[0mmerge_cells\u001b[0m\u001b[1;33m(\u001b[0m\u001b[0mchr\u001b[0m\u001b[1;33m(\u001b[0m\u001b[1;36m68\u001b[0m \u001b[1;33m+\u001b[0m \u001b[0my\u001b[0m\u001b[1;33m)\u001b[0m \u001b[1;33m+\u001b[0m \u001b[1;34m'1:'\u001b[0m \u001b[1;33m+\u001b[0m \u001b[0mchr\u001b[0m\u001b[1;33m(\u001b[0m\u001b[1;36m68\u001b[0m \u001b[1;33m+\u001b[0m \u001b[0my\u001b[0m \u001b[1;33m+\u001b[0m \u001b[1;36m2\u001b[0m\u001b[1;33m)\u001b[0m\u001b[1;33m+\u001b[0m\u001b[1;34m'1'\u001b[0m\u001b[1;33m)\u001b[0m\u001b[1;33m\u001b[0m\u001b[1;33m\u001b[0m\u001b[0m\n\u001b[0m",
      "\u001b[1;32mC:\\ProgramData\\Anaconda3\\lib\\site-packages\\openpyxl\\worksheet\\worksheet.py\u001b[0m in \u001b[0;36mmerge_cells\u001b[1;34m(self, range_string, start_row, start_column, end_row, end_column)\u001b[0m\n\u001b[0;32m    590\u001b[0m                       max_col=end_column, max_row=end_row)\n\u001b[0;32m    591\u001b[0m             \u001b[0mrange_string\u001b[0m \u001b[1;33m=\u001b[0m \u001b[0mcr\u001b[0m\u001b[1;33m.\u001b[0m\u001b[0mcoord\u001b[0m\u001b[1;33m\u001b[0m\u001b[1;33m\u001b[0m\u001b[0m\n\u001b[1;32m--> 592\u001b[1;33m         \u001b[0mmcr\u001b[0m \u001b[1;33m=\u001b[0m \u001b[0mMergedCellRange\u001b[0m\u001b[1;33m(\u001b[0m\u001b[0mself\u001b[0m\u001b[1;33m,\u001b[0m \u001b[0mrange_string\u001b[0m\u001b[1;33m)\u001b[0m\u001b[1;33m\u001b[0m\u001b[1;33m\u001b[0m\u001b[0m\n\u001b[0m\u001b[0;32m    593\u001b[0m         \u001b[0mself\u001b[0m\u001b[1;33m.\u001b[0m\u001b[0mmerged_cells\u001b[0m\u001b[1;33m.\u001b[0m\u001b[0madd\u001b[0m\u001b[1;33m(\u001b[0m\u001b[0mmcr\u001b[0m\u001b[1;33m)\u001b[0m\u001b[1;33m\u001b[0m\u001b[1;33m\u001b[0m\u001b[0m\n\u001b[0;32m    594\u001b[0m         \u001b[0mself\u001b[0m\u001b[1;33m.\u001b[0m\u001b[0m_clean_merge_range\u001b[0m\u001b[1;33m(\u001b[0m\u001b[0mmcr\u001b[0m\u001b[1;33m)\u001b[0m\u001b[1;33m\u001b[0m\u001b[1;33m\u001b[0m\u001b[0m\n",
      "\u001b[1;32mC:\\ProgramData\\Anaconda3\\lib\\site-packages\\openpyxl\\worksheet\\merge.py\u001b[0m in \u001b[0;36m__init__\u001b[1;34m(self, worksheet, coord)\u001b[0m\n\u001b[0;32m     66\u001b[0m     \u001b[1;32mdef\u001b[0m \u001b[0m__init__\u001b[0m\u001b[1;33m(\u001b[0m\u001b[0mself\u001b[0m\u001b[1;33m,\u001b[0m \u001b[0mworksheet\u001b[0m\u001b[1;33m,\u001b[0m \u001b[0mcoord\u001b[0m\u001b[1;33m)\u001b[0m\u001b[1;33m:\u001b[0m\u001b[1;33m\u001b[0m\u001b[1;33m\u001b[0m\u001b[0m\n\u001b[0;32m     67\u001b[0m         \u001b[0mself\u001b[0m\u001b[1;33m.\u001b[0m\u001b[0mws\u001b[0m \u001b[1;33m=\u001b[0m \u001b[0mworksheet\u001b[0m\u001b[1;33m\u001b[0m\u001b[1;33m\u001b[0m\u001b[0m\n\u001b[1;32m---> 68\u001b[1;33m         \u001b[0msuper\u001b[0m\u001b[1;33m(\u001b[0m\u001b[1;33m)\u001b[0m\u001b[1;33m.\u001b[0m\u001b[0m__init__\u001b[0m\u001b[1;33m(\u001b[0m\u001b[0mrange_string\u001b[0m\u001b[1;33m=\u001b[0m\u001b[0mcoord\u001b[0m\u001b[1;33m)\u001b[0m\u001b[1;33m\u001b[0m\u001b[1;33m\u001b[0m\u001b[0m\n\u001b[0m\u001b[0;32m     69\u001b[0m         \u001b[0mself\u001b[0m\u001b[1;33m.\u001b[0m\u001b[0mstart_cell\u001b[0m \u001b[1;33m=\u001b[0m \u001b[1;32mNone\u001b[0m\u001b[1;33m\u001b[0m\u001b[1;33m\u001b[0m\u001b[0m\n\u001b[0;32m     70\u001b[0m         \u001b[0mself\u001b[0m\u001b[1;33m.\u001b[0m\u001b[0m_get_borders\u001b[0m\u001b[1;33m(\u001b[0m\u001b[1;33m)\u001b[0m\u001b[1;33m\u001b[0m\u001b[1;33m\u001b[0m\u001b[0m\n",
      "\u001b[1;32mC:\\ProgramData\\Anaconda3\\lib\\site-packages\\openpyxl\\worksheet\\cell_range.py\u001b[0m in \u001b[0;36m__init__\u001b[1;34m(self, range_string, min_col, min_row, max_col, max_row, title)\u001b[0m\n\u001b[0;32m     51\u001b[0m                 \u001b[0mtitle\u001b[0m\u001b[1;33m,\u001b[0m \u001b[1;33m(\u001b[0m\u001b[0mmin_col\u001b[0m\u001b[1;33m,\u001b[0m \u001b[0mmin_row\u001b[0m\u001b[1;33m,\u001b[0m \u001b[0mmax_col\u001b[0m\u001b[1;33m,\u001b[0m \u001b[0mmax_row\u001b[0m\u001b[1;33m)\u001b[0m \u001b[1;33m=\u001b[0m \u001b[0mrange_to_tuple\u001b[0m\u001b[1;33m(\u001b[0m\u001b[0mrange_string\u001b[0m\u001b[1;33m)\u001b[0m\u001b[1;33m\u001b[0m\u001b[1;33m\u001b[0m\u001b[0m\n\u001b[0;32m     52\u001b[0m             \u001b[1;32melse\u001b[0m\u001b[1;33m:\u001b[0m\u001b[1;33m\u001b[0m\u001b[1;33m\u001b[0m\u001b[0m\n\u001b[1;32m---> 53\u001b[1;33m                 \u001b[0mmin_col\u001b[0m\u001b[1;33m,\u001b[0m \u001b[0mmin_row\u001b[0m\u001b[1;33m,\u001b[0m \u001b[0mmax_col\u001b[0m\u001b[1;33m,\u001b[0m \u001b[0mmax_row\u001b[0m \u001b[1;33m=\u001b[0m \u001b[0mrange_boundaries\u001b[0m\u001b[1;33m(\u001b[0m\u001b[0mrange_string\u001b[0m\u001b[1;33m)\u001b[0m\u001b[1;33m\u001b[0m\u001b[1;33m\u001b[0m\u001b[0m\n\u001b[0m\u001b[0;32m     54\u001b[0m \u001b[1;33m\u001b[0m\u001b[0m\n\u001b[0;32m     55\u001b[0m         \u001b[0mself\u001b[0m\u001b[1;33m.\u001b[0m\u001b[0mmin_col\u001b[0m \u001b[1;33m=\u001b[0m \u001b[0mmin_col\u001b[0m\u001b[1;33m\u001b[0m\u001b[1;33m\u001b[0m\u001b[0m\n",
      "\u001b[1;32mC:\\ProgramData\\Anaconda3\\lib\\site-packages\\openpyxl\\utils\\cell.cp39-win_amd64.pyd\u001b[0m in \u001b[0;36mopenpyxl.utils.cell.range_boundaries\u001b[1;34m()\u001b[0m\n",
      "\u001b[1;31mValueError\u001b[0m: Y1:[1 is not a valid coordinate or range"
     ]
    }
   ],
   "source": [
    "for y in range(0, 23, 3):\n",
    "    sheet.merge_cells(chr(68 + y) + '1:' + chr(68 + y + 2)+'1')"
   ]
  },
  {
   "cell_type": "code",
   "execution_count": 196,
   "metadata": {},
   "outputs": [],
   "source": [
    "wb.save('otch3.xlsx')"
   ]
  },
  {
   "cell_type": "code",
   "execution_count": 198,
   "metadata": {},
   "outputs": [
    {
     "name": "stdout",
     "output_type": "stream",
     "text": [
      "2\n",
      "5\n",
      "8\n",
      "11\n",
      "14\n",
      "17\n",
      "20\n",
      "23\n"
     ]
    }
   ],
   "source": [
    "for y in range(0,23, 3):\n",
    "    print(y+2)"
   ]
  },
  {
   "cell_type": "code",
   "execution_count": null,
   "metadata": {},
   "outputs": [],
   "source": []
  },
  {
   "cell_type": "code",
   "execution_count": null,
   "metadata": {},
   "outputs": [],
   "source": []
  }
 ],
 "metadata": {
  "kernelspec": {
   "display_name": "Python 3 (ipykernel)",
   "language": "python",
   "name": "python3"
  },
  "language_info": {
   "codemirror_mode": {
    "name": "ipython",
    "version": 3
   },
   "file_extension": ".py",
   "mimetype": "text/x-python",
   "name": "python",
   "nbconvert_exporter": "python",
   "pygments_lexer": "ipython3",
   "version": "3.9.13"
  },
  "vscode": {
   "interpreter": {
    "hash": "ebfc0a8d552866b0d59eba665220a57de3bc06f3ac643b8bef38dd8f66781fdd"
   }
  }
 },
 "nbformat": 4,
 "nbformat_minor": 4
}
